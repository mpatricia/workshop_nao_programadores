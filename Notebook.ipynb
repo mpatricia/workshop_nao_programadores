{
  "metadata": {
    "colab": {
      "name": "Cópia de Notebook_Workshop_Febraban_Tech.ipynb",
      "provenance": [],
      "collapsed_sections": []
    },
    "kernelspec": {
      "name": "python",
      "display_name": "Python (Pyodide)",
      "language": "python"
    },
    "language_info": {
      "codemirror_mode": {
        "name": "python",
        "version": 3
      },
      "file_extension": ".py",
      "mimetype": "text/x-python",
      "name": "python",
      "nbconvert_exporter": "python",
      "pygments_lexer": "ipython3",
      "version": "3.8"
    }
  },
  "nbformat_minor": 4,
  "nbformat": 4,
  "cells": [
    {
      "cell_type": "markdown",
      "source": "# Workshop Análise de Dados em Python para Não Programadores",
      "metadata": {
        "id": "nXJojAr7bVrQ"
      }
    },
    {
      "cell_type": "markdown",
      "source": "O material completo desse workshop está disponível no repositório: \n\nhttps://github.com/mpatricia/workshop\n\nPara abrir esse notebook direto no Google Colab acesse o link: \n\nhttps://colab.research.google.com/github/mpatricia/workshop/blob/main/Notebook.ipynb",
      "metadata": {
        "id": "Id5FwgOiSvfA"
      }
    },
    {
      "cell_type": "markdown",
      "source": "---",
      "metadata": {
        "id": "HpebSpQeSvfB"
      }
    },
    {
      "cell_type": "markdown",
      "source": "## 1. Funcionalidades Básicas",
      "metadata": {
        "id": "z391DWSMSvfC"
      }
    },
    {
      "cell_type": "markdown",
      "source": "Esta é uma célula para exibir textos! \n\nUsa como base a sintaxe Markdown, que é uma linguagem de marcação com formato de texto simples. \n\nÉ útil para documentar as análises, veja alguns exemplos: ",
      "metadata": {
        "id": "j9a4nLY9SvfD"
      }
    },
    {
      "cell_type": "code",
      "source": "### Esta é uma célula para executar códigos!\n\n# Usa como base a linguagem de programação Python\n\n# Em Python, o caracter '#' é utilizado para comentários, qualquer conteúdo após '#' é desconsiderado na execução",
      "metadata": {
        "id": "AQZaPtwfSvfE",
        "trusted": true
      },
      "execution_count": null,
      "outputs": []
    },
    {
      "cell_type": "code",
      "source": "# Na linha de comando abaixo, '2 + 2' é executado e 'calculadora' é desconsiderado\n2 + 2 # calculadora",
      "metadata": {
        "id": "iviKH3rYWCK3",
        "trusted": true
      },
      "execution_count": null,
      "outputs": []
    },
    {
      "cell_type": "code",
      "source": "# Imprimir texto com uma célula de código\nprint('Função calculadora:')\n2 + 2",
      "metadata": {
        "id": "U2JQekQGSvfG",
        "trusted": true
      },
      "execution_count": null,
      "outputs": []
    },
    {
      "cell_type": "code",
      "source": "# Guardar resultado em um objeto chamado 'soma'\nsoma = 2 + 2",
      "metadata": {
        "id": "_kQ9zeqASvfG",
        "trusted": true
      },
      "execution_count": null,
      "outputs": []
    },
    {
      "cell_type": "code",
      "source": "# Mostrar objeto 'soma'\nsoma",
      "metadata": {
        "id": "NmNT1l74SvfH",
        "trusted": true
      },
      "execution_count": null,
      "outputs": []
    },
    {
      "cell_type": "code",
      "source": "# Objetos podem guardar textos e listas (conjunto de strings ou números)\nnome = \"Fulano\"\nidade_filhos = [2,4,6]\nprint(nome, \"tem 3 filhos, com idades:\", idade_filhos)",
      "metadata": {
        "id": "oKotQsx9SvfI",
        "trusted": true
      },
      "execution_count": null,
      "outputs": []
    },
    {
      "cell_type": "code",
      "source": "# Média de idade dos filhos de Fulano\nmean(idade_filhos)",
      "metadata": {
        "id": "4et65LK6SvfJ",
        "trusted": true
      },
      "execution_count": null,
      "outputs": []
    },
    {
      "cell_type": "code",
      "source": "# Criar função que calcula a média\ndef mean(lista_valores):\n    soma_valores = 0\n    qtd_valores = 0\n    for valor in lista_valores:\n        soma_valores = soma_valores + valor\n        qtd_valores = qtd_valores + 1\n    return soma_valores / qtd_valores",
      "metadata": {
        "id": "Pc_aLTGDSvfJ",
        "trusted": true
      },
      "execution_count": null,
      "outputs": []
    },
    {
      "cell_type": "code",
      "source": "# Calcular a média de idade dos filhos de Fulano\nmean(idade_filhos)",
      "metadata": {
        "id": "8U_BTKMCSvfK",
        "trusted": true
      },
      "execution_count": null,
      "outputs": []
    },
    {
      "cell_type": "code",
      "source": "# Importar biblioteca que realiza cálculos numéricos com vetores\nimport numpy as np ",
      "metadata": {
        "id": "ao_BvQJ4SvfM",
        "trusted": true
      },
      "execution_count": null,
      "outputs": []
    },
    {
      "cell_type": "code",
      "source": "# Calcular a média de idade dos filhos de Fulano\nnp.mean(idade_filhos)",
      "metadata": {
        "id": "8MGhaBNzSvfM",
        "trusted": true
      },
      "execution_count": null,
      "outputs": []
    },
    {
      "cell_type": "markdown",
      "source": "__Dica!__ Atalho para executar os códigos em jupyter notebook:\n\nSelecionar a célula desejada e clicar __Ctrl+Enter__ para executar \n\n__OU__ clicar __Shift+Enter__ para executar e ir para a próxima célula.",
      "metadata": {
        "id": "bvfae6BSk7VS"
      }
    },
    {
      "cell_type": "markdown",
      "source": "__Observação!__ Neste notebook serão usadas algumas das bibliotecas mais comuns em projetos de análise de dados. \n\nCaso alguma biblioteca não esteja instalada, retornará uma mensagem de erro: No module named '*'. \n\nNesse caso, é preciso instalar. O comando abaixo mostra a instação das bibliotecas seaborn e sklearn:\n\n`!pip install seaborn sklearn`",
      "metadata": {
        "id": "r6o9z2UUl5ML"
      }
    },
    {
      "cell_type": "markdown",
      "source": "__SUA VEZ!__\n\nCalcule a soma das idades dos filhos de Fulano:",
      "metadata": {
        "id": "_EfyWUPxSvfN"
      }
    },
    {
      "cell_type": "code",
      "source": "# insira suas linhas de comando abaixo:",
      "metadata": {
        "id": "YW37ZjyvSvfN",
        "trusted": true
      },
      "execution_count": null,
      "outputs": []
    },
    {
      "cell_type": "markdown",
      "source": "---\n\n__CRISP-DM__\n\n---",
      "metadata": {
        "id": "aqrWzO8kSvfN"
      }
    },
    {
      "cell_type": "markdown",
      "source": "A partir daqui esse jupyter notebook está organizado conforme as etapas do modelo __CRISP-DM__.",
      "metadata": {
        "id": "D6eoZxy6SvfO"
      }
    },
    {
      "cell_type": "markdown",
      "source": "## Entendimento e Preparação dos Dados\n\nFonte dos dados: https://www.kaggle.com/datasets/harlfoxem/housesalesprediction\n\nO dataset contém o preço e outras caracterísicas de imóveis vendidos em King County (Seattle) entre Maio/2014 e Maio/2015.\n\nDicionário dos dados:\n* __id:__ identificador único de cada imóvel\n* __price:__ preço\n* __bedrooms:__ número de quartos\n* __bathrooms:__ número de banheiros (.5 indica um lavabo sem chuveiro)\n* __sqft_living:__ área do interior\n* __sqft_lot:__ área do lote \n* __waterfront:__ indica se tem vista para orla\n* __grade:__ qualidade da construção e design (índice de 1 a 13, 1-3 é baixa, em torno de 7 é média e 11-13 é alta)",
      "metadata": {
        "id": "kJ9BdGo_SvfO"
      }
    },
    {
      "cell_type": "markdown",
      "source": "### Leitura dos Dados",
      "metadata": {
        "id": "Y-F1rTtHSvfP"
      }
    },
    {
      "cell_type": "code",
      "source": "# Importar biblioteca que trabalha com datasets (dataframes: estrutura usada pelo Python)\nimport pandas as pd# Importar biblioteca para gráficos mais complexos\n\n# Importar biblioteca para omitir warnings\nimport warnings\nwarnings.filterwarnings(\"ignore\")",
      "metadata": {
        "id": "wbBamETuSvfU",
        "trusted": true
      },
      "execution_count": null,
      "outputs": []
    },
    {
      "cell_type": "code",
      "source": "# Informar link onde os dados foram disponibilizados\nlocal_dados = 'kc_house_data_sample.csv'",
      "metadata": {
        "id": "HAhtiiFMSvfV",
        "trusted": true
      },
      "execution_count": null,
      "outputs": []
    },
    {
      "cell_type": "code",
      "source": "# Ler dados e salvar no objeto df\ndf = pd.read_table(local_dados)",
      "metadata": {
        "id": "YRN_B_v-SvfV",
        "trusted": true
      },
      "execution_count": null,
      "outputs": []
    },
    {
      "cell_type": "code",
      "source": "# Visualizar os primeiros registros do objeto df\ndf.head()",
      "metadata": {
        "id": "fSmR1FlxSvfV",
        "colab": {
          "base_uri": "https://localhost:8080/",
          "height": 206
        },
        "outputId": "31325b98-38bb-4539-bc05-af4c9345d7ee",
        "trusted": true
      },
      "execution_count": null,
      "outputs": []
    },
    {
      "cell_type": "code",
      "source": "# Ler dados e salvar no objeto df\ndf = pd.read_table(link_dados, sep=',')\ndf.head()",
      "metadata": {
        "id": "PYBsgpmilc6p",
        "colab": {
          "base_uri": "https://localhost:8080/",
          "height": 206
        },
        "outputId": "651a47cf-695a-4a2c-e555-5d3c5ff77d64",
        "trusted": true
      },
      "execution_count": null,
      "outputs": []
    },
    {
      "cell_type": "code",
      "source": "# Obter informações sobre as colunas do objeto df\ndf.info()",
      "metadata": {
        "id": "ug0OII_4cklG",
        "colab": {
          "base_uri": "https://localhost:8080/"
        },
        "outputId": "99064ee2-4ba7-4763-a4d0-e4701f6b1479",
        "trusted": true
      },
      "execution_count": null,
      "outputs": []
    },
    {
      "cell_type": "markdown",
      "source": "### Analisar a Variável Preço \n\nÉ a variável que queremos prever, ela será a __variável resposta (target)__ do modelo preditivo! \n\nPreço é uma variável __quantitativa contínua__, é adequado visualizar com __histograma__ ou __boxplot__.",
      "metadata": {
        "id": "RYCKaMEb6I8O"
      }
    },
    {
      "cell_type": "code",
      "source": "# Importar biblioteca para construção de gráficos\nfrom matplotlib import pyplot as plt",
      "metadata": {
        "id": "tGFmdiWZgeeC",
        "trusted": true
      },
      "execution_count": null,
      "outputs": []
    },
    {
      "cell_type": "code",
      "source": "# Histograma dos preços\ndf.plot(kind=\"hist\", y=\"price\", bins=40)\nplt.show()",
      "metadata": {
        "id": "tRPzeTzv25oN",
        "colab": {
          "base_uri": "https://localhost:8080/",
          "height": 278
        },
        "outputId": "738723c8-5ce3-410c-895e-5868622244f7",
        "trusted": true
      },
      "execution_count": null,
      "outputs": []
    },
    {
      "cell_type": "markdown",
      "source": "Observação! **1e6** é equivalente a **1×10⁶**",
      "metadata": {
        "id": "kEUNogXc5Dr5"
      }
    },
    {
      "cell_type": "code",
      "source": "# Boxplot dos preços\ndf.plot(kind=\"box\", y=\"price\")\nplt.show()",
      "metadata": {
        "id": "-Sk0VTnt3eV9",
        "colab": {
          "base_uri": "https://localhost:8080/",
          "height": 276
        },
        "outputId": "9a39c367-bfcc-4c1b-af0a-9f642f76bebe",
        "trusted": true
      },
      "execution_count": null,
      "outputs": []
    },
    {
      "cell_type": "markdown",
      "source": "__Conclusão:__ \n\nO preço apresenta distribuição assimétrica, com grande parte dos valores entre 0 e 1 milhão, e poucos valores entre 1 e 3 milhões. \n\nVamos colocar uma lupa entre 0 e 1 milhão para visualizar melhor:",
      "metadata": {
        "id": "bRRwWGjJ7PuJ"
      }
    },
    {
      "cell_type": "code",
      "source": "# Histograma filtrando apenas imóveis com preço até 1 milhão\ndf.loc[df.price <= 1000000].plot(kind=\"hist\", y=\"price\", bins=40)\nplt.show()",
      "metadata": {
        "id": "6G57bqml3vcW",
        "colab": {
          "base_uri": "https://localhost:8080/",
          "height": 278
        },
        "outputId": "07aa8555-e892-4733-f08f-9ce3b4110649",
        "trusted": true
      },
      "execution_count": null,
      "outputs": []
    },
    {
      "cell_type": "markdown",
      "source": "__Conclusão:__ \n\nNo intervalo até 1 milhão também apresenta distribuição assimétrica. ",
      "metadata": {
        "id": "v2iqJgzjSvfa"
      }
    },
    {
      "cell_type": "markdown",
      "source": "### Analisar a Relação do Preço com as Demais Variáveis\n\nAs demais variáveis serão usadas para prever o preço do imóvel, são chamadas de __variáveis explicativas (inputs)__ do modelo preditivo!\n\nDado o conhecimento das variáveis explicativas, o modelo preditivo será aplicado a elas para prever o preço do imóvel.\n\nQuais variáveis explicativas são mais relevantes para estimar o preço do imóvel?",
      "metadata": {
        "id": "4QgdvMVI8Acg"
      }
    },
    {
      "cell_type": "markdown",
      "source": "#### Preço x Área Interna (sqft_living)\n\nO preço e a área são variáveis __quantitativas contínuas__, é adequado visualizar com um __gráfico de pontos (scatter plot)__.",
      "metadata": {
        "id": "A8hTU89kr8qJ"
      }
    },
    {
      "cell_type": "code",
      "source": "# Scatter plot\ndf.plot(kind=\"scatter\", y=\"price\", x=\"sqft_living\")\nplt.show()",
      "metadata": {
        "id": "J2D8vLl8e5Vb",
        "colab": {
          "base_uri": "https://localhost:8080/",
          "height": 291
        },
        "outputId": "14513c50-603f-464e-f364-e5bfc692d4e8",
        "trusted": true
      },
      "execution_count": null,
      "outputs": []
    },
    {
      "cell_type": "code",
      "source": "# Scatter plot com transparência (para melhorar a vizualização)\ndf.plot(kind=\"scatter\", y=\"price\", x=\"sqft_living\", alpha=.1)\nplt.show()",
      "metadata": {
        "id": "UljN74fwSB_l",
        "colab": {
          "base_uri": "https://localhost:8080/",
          "height": 291
        },
        "outputId": "98ed9f5d-b065-4774-9d83-502b42301a9c",
        "trusted": true
      },
      "execution_count": null,
      "outputs": []
    },
    {
      "cell_type": "code",
      "source": "# Scatter plot com foco nos imóveis até 1 milhão\ndf.loc[df.price <= 1000000].plot(kind=\"scatter\", y=\"price\", x=\"sqft_living\", alpha=.1)\nplt.show()",
      "metadata": {
        "id": "pfvwq66ySvfc",
        "colab": {
          "base_uri": "https://localhost:8080/",
          "height": 291
        },
        "outputId": "9a040189-814d-44d1-9489-758b42b20917",
        "trusted": true
      },
      "execution_count": null,
      "outputs": []
    },
    {
      "cell_type": "markdown",
      "source": "__Conclusão:__ \n\n* Preço e área interna apresentam relação positiva, quanto maior a área interna, maior o preço do imóvel. \n* Portanto, área interna é uma boa candidata a variável explicativa.",
      "metadata": {
        "id": "Cr0m9a8eSvfd"
      }
    },
    {
      "cell_type": "markdown",
      "source": "__SUA VEZ!__\n\nExperimente visualizar a relação do preço com outra variável e analise a relação. Sugestão: bedrooms.",
      "metadata": {
        "id": "COtAEg6OSbHJ"
      }
    },
    {
      "cell_type": "code",
      "source": "# Inclua seu código abaixo:",
      "metadata": {
        "id": "zrdkgvs9SXaP",
        "trusted": true
      },
      "execution_count": null,
      "outputs": []
    },
    {
      "cell_type": "markdown",
      "source": "Como posso repetir essa análise para todas as variáveis? \n\nVamos aprender a usar o loop!",
      "metadata": {
        "id": "k3F6UDdJS-bN"
      }
    },
    {
      "cell_type": "code",
      "source": "# Listar as colunas do objeto df\ndf.columns",
      "metadata": {
        "id": "t4WSh8AFTwKo",
        "colab": {
          "base_uri": "https://localhost:8080/"
        },
        "outputId": "ab4b8c91-3b58-4e01-ccde-d43ca4f434b6",
        "trusted": true
      },
      "execution_count": null,
      "outputs": []
    },
    {
      "cell_type": "code",
      "source": "# Imprimir o 1º e o 4º item da lista de colunas (obs: o índice começa em 0)\nprint(df.columns[0])\nprint(df.columns[3])",
      "metadata": {
        "id": "_xW9ZZlCTfZp",
        "colab": {
          "base_uri": "https://localhost:8080/"
        },
        "outputId": "28a6bff5-5eb2-411c-952b-e8d08da0faa9",
        "trusted": true
      },
      "execution_count": null,
      "outputs": []
    },
    {
      "cell_type": "code",
      "source": "# Loop para executar comandos com cada item do objeto df.columns\nfor x in df.columns:\n    print('Essa é a variável:', x)",
      "metadata": {
        "id": "GJ2EpoVcPNyn",
        "colab": {
          "base_uri": "https://localhost:8080/"
        },
        "outputId": "a5b5d180-1868-482d-cda7-2166da1403ca",
        "trusted": true
      },
      "execution_count": null,
      "outputs": []
    },
    {
      "cell_type": "markdown",
      "source": "__SUA VEZ!__\n\nUse o loop para plotar o gráfico do preço com cada variável.\n\n__Dica:__ Combine os códigos das células anteriores!",
      "metadata": {
        "id": "CGSCz_Y7PfH9"
      }
    },
    {
      "cell_type": "code",
      "source": "# Inclua seu código abaixo:",
      "metadata": {
        "id": "cskb8XdUeiJr",
        "scrolled": true,
        "trusted": true
      },
      "execution_count": null,
      "outputs": []
    },
    {
      "cell_type": "markdown",
      "source": "__Conclusões:__\n\n* __id:__ não parece ter relação e não tem sentido negocial, deve-se excluir\n* __bedrooms:__ parece ter relação positiva (quanto mais quartos, maior o preço), é uma variável quantitativa discreta, sendo mais adequado outro tipo de gráfico para visualizar a relação\n* __bathrooms:__ relação positiva, é uma variável quantitativa discreta\n* __sqft_living:__ relação positiva\n* __sqft_lot:__ não parece ter relação\n* __waterfront:__ variável qualitativa nominal\n* __grade:__ relação positiva, variável quantitativa discreta",
      "metadata": {
        "id": "bRqmaaoSSvfi"
      }
    },
    {
      "cell_type": "markdown",
      "source": "Dada essa conclusão:\n\n* Excluir as variáveis que não parecem ter relação com o preço.\n* Para as variáveis discretas ou qualitativas, plotar gráfico mais adequado para avaliar a relação com o preço, por exemplo, boxplot por valor/categoria.",
      "metadata": {
        "id": "G0wOrrvuSvfi"
      }
    },
    {
      "cell_type": "code",
      "source": "# Excluir variáveis\nvars_excluir = ['id', 'sqft_lot']\ndf.drop(vars_excluir, axis=1, inplace=True)",
      "metadata": {
        "id": "YWOm-ckRSvfi",
        "trusted": true
      },
      "execution_count": null,
      "outputs": []
    },
    {
      "cell_type": "code",
      "source": "vars_discretas_qualitativas = ['bedrooms', 'bathrooms', 'waterfront', 'grade']\nfor x in vars_discretas_qualitativas:\n    df.boxplot(column='price', by=x, grid=False)\n    plt.show()",
      "metadata": {
        "colab": {
          "base_uri": "https://localhost:8080/",
          "height": 1000
        },
        "id": "pYNrAfpBUyMn",
        "outputId": "98a2741e-f7b4-4149-b253-ae7162344637",
        "trusted": true
      },
      "execution_count": null,
      "outputs": []
    },
    {
      "cell_type": "markdown",
      "source": "__Conclusão:__\n\n* __bedrooms:__ correlação positiva\n* __bathrooms:__ correlação positiva\n* __floors:__ correlação positiva\n* __waterfront:__ imóveis que possuem vista para orla possuem preço maior\n* __view:__ correlação positiva\n* __condition:__ correlação positiva fraca\n* __grade:__ correlação positiva",
      "metadata": {
        "id": "-P43w9h1Svfl"
      }
    },
    {
      "cell_type": "markdown",
      "source": "### Análise de Valores Ausentes\n\nVamos avaliar se as variáveis possuem valores ausentes e identificar a melhor forma de tratá-los.",
      "metadata": {
        "id": "GSZ5XWkISvfm"
      }
    },
    {
      "cell_type": "code",
      "source": "# Percentual de valores ausentes por variável\n100*df.isnull().sum()/len(df)",
      "metadata": {
        "id": "RnKWNIzQSvfm",
        "colab": {
          "base_uri": "https://localhost:8080/"
        },
        "outputId": "b9baa454-705a-48be-9480-08e1393964ce",
        "trusted": true
      },
      "execution_count": null,
      "outputs": []
    },
    {
      "cell_type": "markdown",
      "source": "__Conclusão:__ \n\nNão há valores ausentes, portanto, não é necessário nenhum tratamento.",
      "metadata": {
        "id": "RqdLngVmSvfn"
      }
    },
    {
      "cell_type": "markdown",
      "source": "__Tratamentos identificados e realizados:__\n\n* Exclusão de variáveis que não possuem sentido negocial ou não apresentam relação com o preço. __OK__\n* Tratamento de valores missing. __OK__\n* Tratamento de variáveis qualitativas (apenas waterfront). __OK__\n\n__Tratamento identificados e ainda não realizados:__\n\n* Padronizar variáveis explicativas para que fiquem na mesma grandeza: aplicar RobustScaler, pois algumas variáveis possuem outliers.",
      "metadata": {
        "id": "2r7XlQpGbVrf"
      }
    },
    {
      "cell_type": "code",
      "source": "# Importar bibliotecas para pré-processamento dos dados\nfrom sklearn.compose import ColumnTransformer\nfrom sklearn.preprocessing import RobustScaler",
      "metadata": {
        "id": "X_2Omp38Svfp",
        "trusted": true
      },
      "execution_count": null,
      "outputs": []
    },
    {
      "cell_type": "code",
      "source": "# Selecionar variáveis explicativas para padronização com RobustScaler\nvars_explicativas = ['bedrooms', 'bathrooms', 'sqft_living', 'waterfront', 'grade']",
      "metadata": {
        "id": "tGT-4tAqSvfp",
        "trusted": true
      },
      "execution_count": null,
      "outputs": []
    },
    {
      "cell_type": "code",
      "source": "# Definir pre-processamento com padronização\npadronizar = RobustScaler(copy=False)\npreprocessor = ColumnTransformer(transformers=[('padronizar', padronizar, vars_explicativas)])",
      "metadata": {
        "id": "ghhc64f2bVru",
        "trusted": true
      },
      "execution_count": null,
      "outputs": []
    },
    {
      "cell_type": "markdown",
      "source": "__Tratamentos que não serão abordados nesse Workshop:__\n\n* Valores outliers\n* Assimetria na distribuição da variável resposta\n* Autocorrelação entre variáveis explicativas",
      "metadata": {
        "id": "kUV-cFfOMNRe"
      }
    },
    {
      "cell_type": "markdown",
      "source": "---\n",
      "metadata": {
        "id": "Z33RO9l1Svfq"
      }
    },
    {
      "cell_type": "markdown",
      "source": "## 4. Modelagem\n\nSerá utilizada __validação cruzada__ para treinar diversos modelos e selecionar o melhor modelo nos dados de __treino__. \n\nEm seguida esse modelo será aplicado em uma amostra independente do treinamento (dados de __teste__) para avaliação da performance esperada com o uso do modelo.",
      "metadata": {
        "id": "DJBFFshdbVrv"
      }
    },
    {
      "cell_type": "code",
      "source": "# Importar bibliotecas\nfrom sklearn.model_selection import cross_validate, train_test_split # separar dados treino/teste e validação cruzada\nfrom sklearn.pipeline import Pipeline # definir sequência de cálculos para treinar modelos\nfrom sklearn import neighbors, tree, ensemble, linear_model # estimadores para treinar modelos \nfrom sklearn.metrics import r2_score, median_absolute_error # métrica para avaliar modelos",
      "metadata": {
        "id": "D1oA9AtWSvfr",
        "trusted": true
      },
      "execution_count": null,
      "outputs": []
    },
    {
      "cell_type": "markdown",
      "source": "### Separar dados de treino e teste\n\nA base de __treino__ será utilizada para __treinamento e validação__, enquando a base de __teste__ será utilizada para __avaliação__ do modelo, como uma forma de mensurar de forma independente do treinamento o quão bem o modelo irá performar nos novos dados.",
      "metadata": {
        "id": "vvbSzCOUbVrv"
      }
    },
    {
      "cell_type": "code",
      "source": "# Variáveis explicativas no objeto X\nX = df[vars_explicativas]\n\n# Variável target no objeto y\ny = df['price']\n\n# Separar em treino e teste\nX_train, X_test, y_train, y_test = train_test_split(X, y, test_size=0.3, random_state=1)",
      "metadata": {
        "id": "W7IO0RRwbVrv",
        "trusted": true
      },
      "execution_count": null,
      "outputs": []
    },
    {
      "cell_type": "markdown",
      "source": "### Treinar Estimadores e Obter Métricas nos Dados de Treino\n\nDado que tem-se uma __variável resposta quantitativa contínua__, os estimadores adequados são do tipo regressores, foram selecionados 5 estimadores para treinamento e seleção do melhor modelo.",
      "metadata": {
        "id": "9ZFH5LakbVrw"
      }
    },
    {
      "cell_type": "code",
      "source": "# Definir estimadores a serem testados\nestimadores = [\n    linear_model.LinearRegression(),\n    neighbors.KNeighborsRegressor(),\n    ensemble.RandomForestRegressor(), \n    ensemble.GradientBoostingRegressor()\n]",
      "metadata": {
        "id": "SS86sF3EbVrx",
        "trusted": true
      },
      "execution_count": null,
      "outputs": []
    },
    {
      "cell_type": "markdown",
      "source": "Dentre as métricas adequadas para avaliação de estimadores do tipo regressor, foram escolhidas duas:\n\n* __R2:__ fornece uma noção de quanto da variância da variável resposta é explicado pelas variáveis explicativas, quanto maior melhor.\n* __Erro Absoluto Mediano:__ indica a diferença mediana entre os valores priditos e os valores reais, quanto menor melhor, é uma opção interessante dado que tem-se muitos valores outliers na variável repsosta.",
      "metadata": {
        "id": "RTDocRQye-wr"
      }
    },
    {
      "cell_type": "code",
      "source": "# Definir métricas para seleção do melhor modelo\nmetricas = [\n    'r2', # r2_score\n    'neg_median_absolute_error' # median_absolute_error\n]",
      "metadata": {
        "id": "u6TbIUGuLgIf",
        "trusted": true
      },
      "execution_count": null,
      "outputs": []
    },
    {
      "cell_type": "code",
      "source": "# Loop para treinamento e captura de performance de cada estimador\n\n# Objeto para armazenar resultado de cada estimador\nresults = []\n\nfor estimador in estimadores:\n    \n    print('Rodando estimador:', estimador.__class__.__name__)\n    \n    # Pipeline - sequência de passos de pré-processamento e treinamento do estimador\n    my_pipeline = Pipeline(steps=[('preprocesing', preprocessor), \n                                  ('model', estimador)])\n    \n    # Mensurar métricas de performance usando validação cruzada\n    scores = cross_validate(my_pipeline, X_train, y_train, cv=5, scoring=metricas, return_train_score=True)\n    \n    # Salvar resultados\n    results.append({'Estimador':estimador.__class__.__name__, \n                    'R2_treino':scores['train_r2'].mean(),\n                    'R2_teste':scores['test_r2'].mean(),\n                    'median_abs_error_treino':-scores['train_neg_median_absolute_error'].mean(),\n                    'median_abs_error_teste':-scores['test_neg_median_absolute_error'].mean()\n                   })",
      "metadata": {
        "id": "Yr9lifkebVrx",
        "trusted": true
      },
      "execution_count": null,
      "outputs": []
    },
    {
      "cell_type": "code",
      "source": "# Visualizar resultados\npd.DataFrame(results).sort_values('R2_teste', ascending=False)",
      "metadata": {
        "id": "Y6J6ywjxSvfu",
        "trusted": true
      },
      "execution_count": null,
      "outputs": []
    },
    {
      "cell_type": "markdown",
      "source": "__Conclusão:__\n\n* Considerando o R2 e o erro absoluto mediano alcançados na base de teste, os 5 modelos apresentaram resultados próximos. Nesse caso, vamos selecionar o modelo de regressão linear por ser mais simples e fácil de interpretar.",
      "metadata": {
        "id": "usaygBA5bVrx"
      }
    },
    {
      "cell_type": "code",
      "source": "# Treinar modelo selecionado\nmy_pipeline = Pipeline(steps=[('preprocessor', preprocessor), \n                              ('model', linear_model.LinearRegression())])\nmy_pipeline.fit(X_train, y_train) ",
      "metadata": {
        "id": "dwxHkMrgbVrz",
        "trusted": true
      },
      "execution_count": null,
      "outputs": []
    },
    {
      "cell_type": "markdown",
      "source": "---",
      "metadata": {
        "id": "7a2Y1kaHSvfv"
      }
    },
    {
      "cell_type": "markdown",
      "source": "## 5. Avaliação",
      "metadata": {
        "id": "dHNnz4p6bVr0"
      }
    },
    {
      "cell_type": "markdown",
      "source": "Uma estimativa de quão bem o modelo preditivo irá performar diante de novos dados, independentes daqueles utilizados para treinamento, é calculada atráves da aplicação do modelo aos dados de teste.",
      "metadata": {
        "id": "NHrkjqu1bVr0"
      }
    },
    {
      "cell_type": "code",
      "source": "# Aplicar modelo nos dados de teste\ny_test_pred = my_pipeline.predict(X_test)\n\n# Calcular métricas de performance\nprint(\"R2:\", r2_score(y_test, y_test_pred).round(2))\nprint(\"Erro Absoluto Mediano:\", median_absolute_error(y_test, y_test_pred).round(2))",
      "metadata": {
        "id": "n7QxASBngshy",
        "trusted": true
      },
      "execution_count": null,
      "outputs": []
    },
    {
      "cell_type": "markdown",
      "source": "## 6. Aplicação",
      "metadata": {
        "id": "fu3jl68TbVr0"
      }
    },
    {
      "cell_type": "markdown",
      "source": "### __Quer saber quanto custa o imóvel dos seus sonhos?__",
      "metadata": {
        "id": "Ydr02ZmVbVr1"
      }
    },
    {
      "cell_type": "code",
      "source": "#@title Como seria o imóvel dos seus sonhos? { vertical-output: true, display-mode: \"form\" }\nnumero_quartos = 0 #@param {type:\"integer\"}\nnumero_banheiros = 0 #@param {type:\"integer\"}\narea_interna = 0 #@param {type:\"number\"}\nvista_orla = 0 #@param {type:\"integer\"}\nqualidade_geral = 0 #@param {type:\"integer\"}\n",
      "metadata": {
        "id": "ZbRsmDvBviNc",
        "trusted": true
      },
      "execution_count": null,
      "outputs": []
    },
    {
      "cell_type": "code",
      "source": "df_imovel_sonhos = pd.DataFrame({\n    'bedrooms':numero_quartos,\n    'bathrooms':numero_banheiros,\n    'sqft_living':area_interna,\n    'waterfront':vista_orla,\n    'grade':qualidade_geral\n}, index=['imovel_sonhos'])",
      "metadata": {
        "id": "tYdLio_LbVr1",
        "trusted": true
      },
      "execution_count": null,
      "outputs": []
    },
    {
      "cell_type": "code",
      "source": "# Prever valor do imóvel dos sonhos\nvalor_predito = round(my_pipeline.predict(df_imovel_sonhos)[0], 2)\nprint(\"Seu imóvel dos sonhos custa aproximadamente\", valor_predito, \"!!!\")",
      "metadata": {
        "id": "g9I_T7aJbVr4",
        "trusted": true
      },
      "execution_count": null,
      "outputs": []
    },
    {
      "cell_type": "code",
      "source": "",
      "metadata": {
        "id": "mHJBmKveUZnO"
      },
      "execution_count": null,
      "outputs": []
    }
  ]
}