{
  "cells": [
    {
      "cell_type": "markdown",
      "metadata": {
        "id": "nXJojAr7bVrQ"
      },
      "source": [
        "# Workshop Análise de Dados em Python para Não Programadores"
      ]
    },
    {
      "cell_type": "markdown",
      "metadata": {
        "id": "Id5FwgOiSvfA"
      },
      "source": [
        "O material completo desse workshop está disponível no repositório: \n",
        "\n",
        "https://github.com/mpatricia/workshop\n",
        "\n",
        "Para abrir esse notebook direto no Google Colab acesse o link: \n",
        "\n",
        "https://colab.research.google.com/github/mpatricia/workshop/blob/main/Notebook.ipynb"
      ]
    },
    {
      "cell_type": "markdown",
      "metadata": {
        "id": "HpebSpQeSvfB"
      },
      "source": [
        "---"
      ]
    },
    {
      "cell_type": "markdown",
      "metadata": {
        "id": "z391DWSMSvfC"
      },
      "source": [
        "## 1. Funcionalidades Básicas"
      ]
    },
    {
      "cell_type": "markdown",
      "metadata": {
        "id": "j9a4nLY9SvfD"
      },
      "source": [
        "Esta é uma célula para exibir textos! \n",
        "\n",
        "Usa como base a sintaxe Markdown, que é uma linguagem de marcação com formato de texto simples. \n",
        "\n",
        "É útil para documentar as análises, veja alguns exemplos: "
      ]
    },
    {
      "cell_type": "code",
      "execution_count": null,
      "metadata": {
        "id": "AQZaPtwfSvfE"
      },
      "outputs": [],
      "source": [
        "### Esta é uma célula para executar códigos!\n",
        "\n",
        "# Usa como base a linguagem de programação Python\n",
        "\n",
        "# Em Python, o caracter '#' é utilizado para comentários, qualquer conteúdo após '#' é desconsiderado na execução"
      ]
    },
    {
      "cell_type": "code",
      "source": [
        "# Na linha de comando abaixo, '2 + 2' é executado e 'calculadora' é desconsiderado\n",
        "2 + 2 # calculadora"
      ],
      "metadata": {
        "id": "iviKH3rYWCK3"
      },
      "execution_count": null,
      "outputs": []
    },
    {
      "cell_type": "code",
      "execution_count": null,
      "metadata": {
        "id": "U2JQekQGSvfG"
      },
      "outputs": [],
      "source": [
        "# Imprimir texto com uma célula de código\n",
        "print('Função calculadora:')\n",
        "2 + 2"
      ]
    },
    {
      "cell_type": "code",
      "execution_count": null,
      "metadata": {
        "id": "_kQ9zeqASvfG"
      },
      "outputs": [],
      "source": [
        "# Guardar resultado em um objeto chamado 'soma'\n",
        "soma = 2 + 2"
      ]
    },
    {
      "cell_type": "code",
      "execution_count": null,
      "metadata": {
        "id": "NmNT1l74SvfH"
      },
      "outputs": [],
      "source": [
        "# Mostrar objeto 'soma'\n",
        "soma"
      ]
    },
    {
      "cell_type": "code",
      "execution_count": null,
      "metadata": {
        "id": "oKotQsx9SvfI"
      },
      "outputs": [],
      "source": [
        "# Objetos podem guardar textos e listas (conjunto de strings ou números)\n",
        "nome = \"Fulano\"\n",
        "idade_filhos = [2,4,6]\n",
        "print(nome, \"tem 3 filhos, com idades:\", idade_filhos)"
      ]
    },
    {
      "cell_type": "code",
      "execution_count": null,
      "metadata": {
        "id": "4et65LK6SvfJ"
      },
      "outputs": [],
      "source": [
        "# Média de idade dos filhos de Fulano\n",
        "mean(idade_filhos)"
      ]
    },
    {
      "cell_type": "code",
      "execution_count": null,
      "metadata": {
        "id": "Pc_aLTGDSvfJ"
      },
      "outputs": [],
      "source": [
        "# Criar função que calcula a média\n",
        "def mean(lista_valores):\n",
        "    soma_valores = 0\n",
        "    qtd_valores = 0\n",
        "    for valor in lista_valores:\n",
        "        soma_valores = soma_valores + valor\n",
        "        qtd_valores = qtd_valores + 1\n",
        "    return soma_valores / qtd_valores"
      ]
    },
    {
      "cell_type": "code",
      "execution_count": null,
      "metadata": {
        "id": "8U_BTKMCSvfK"
      },
      "outputs": [],
      "source": [
        "# Calcular a média de idade dos filhos de Fulano\n",
        "mean(idade_filhos)"
      ]
    },
    {
      "cell_type": "code",
      "execution_count": null,
      "metadata": {
        "id": "ao_BvQJ4SvfM"
      },
      "outputs": [],
      "source": [
        "# Importar biblioteca que realiza cálculos numéricos com vetores\n",
        "import numpy as np "
      ]
    },
    {
      "cell_type": "code",
      "execution_count": null,
      "metadata": {
        "id": "8MGhaBNzSvfM"
      },
      "outputs": [],
      "source": [
        "# Calcular a média de idade dos filhos de Fulano\n",
        "np.mean(idade_filhos)"
      ]
    },
    {
      "cell_type": "markdown",
      "source": [
        "__Dica!__ Atalho para executar os códigos em jupyter notebook:\n",
        "\n",
        "Selecionar a célula desejada e clicar __Ctrl+Enter__ para executar \n",
        "\n",
        "__OU__ clicar __Shift+Enter__ para executar e ir para a próxima célula."
      ],
      "metadata": {
        "id": "bvfae6BSk7VS"
      }
    },
    {
      "cell_type": "markdown",
      "source": [
        "__Observação!__ Neste notebook serão usadas algumas das bibliotecas mais comuns em projetos de análise de dados. \n",
        "\n",
        "Caso alguma biblioteca não esteja instalada, retornará uma mensagem de erro: No module named '*'. \n",
        "\n",
        "Nesse caso, é preciso instalar. O comando abaixo mostra a instação das bibliotecas seaborn e sklearn:\n",
        "\n",
        "`!pip install seaborn sklearn`"
      ],
      "metadata": {
        "id": "r6o9z2UUl5ML"
      }
    },
    {
      "cell_type": "markdown",
      "metadata": {
        "id": "_EfyWUPxSvfN"
      },
      "source": [
        "__SUA VEZ!__\n",
        "\n",
        "Calcule a soma das idades dos filhos de Fulano:"
      ]
    },
    {
      "cell_type": "code",
      "execution_count": null,
      "metadata": {
        "id": "YW37ZjyvSvfN"
      },
      "outputs": [],
      "source": [
        "# insira suas linhas de comando abaixo:"
      ]
    },
    {
      "cell_type": "markdown",
      "metadata": {
        "id": "aqrWzO8kSvfN"
      },
      "source": [
        "---\n",
        "\n",
        "__CRISP-DM__\n",
        "\n",
        "---"
      ]
    },
    {
      "cell_type": "markdown",
      "metadata": {
        "id": "D6eoZxy6SvfO"
      },
      "source": [
        "A partir daqui esse jupyter notebook está organizado conforme as etapas do modelo __CRISP-DM__."
      ]
    },
    {
      "cell_type": "markdown",
      "metadata": {
        "id": "kJ9BdGo_SvfO"
      },
      "source": [
        "## Entendimento e Preparação dos Dados\n",
        "\n",
        "Fonte dos dados: https://www.kaggle.com/datasets/harlfoxem/housesalesprediction\n",
        "\n",
        "O dataset contém o preço e outras caracterísicas de imóveis vendidos em King County (Seattle) entre Maio/2014 e Maio/2015.\n",
        "\n",
        "Dicionário dos dados:\n",
        "* __id:__ identificador único de cada imóvel\n",
        "* __price:__ preço\n",
        "* __bedrooms:__ número de quartos\n",
        "* __bathrooms:__ número de banheiros (.5 indica um lavabo sem chuveiro)\n",
        "* __sqft_living:__ área do interior\n",
        "* __sqft_lot:__ área do lote \n",
        "* __floors:__ número de andares \n",
        "* __waterfront:__ indica se tem vista para orla\n",
        "* __view:__ qualidade da vista (índice de 0 a 4)\n",
        "* __condition:__ condição (índice de 1 a 5)\n",
        "* __grade:__ qualidade da construção e design (índice de 1 a 13, 1-3 é baixa, em torno de 7 é média e 11-13 é alta)\n",
        "* __sqft_above:__ área interna dos pisos superiores \n",
        "* __sqft_living15:__ área interior dos 15 vizinhos mais próximos \n",
        "* __sqft_lot15:__ área do lote dos 15 vizinhos mais próximos"
      ]
    },
    {
      "cell_type": "markdown",
      "metadata": {
        "id": "Y-F1rTtHSvfP"
      },
      "source": [
        "### Leitura dos Dados"
      ]
    },
    {
      "cell_type": "code",
      "execution_count": null,
      "metadata": {
        "id": "wbBamETuSvfU"
      },
      "outputs": [],
      "source": [
        "# Importar biblioteca que trabalha com datasets (dataframes: estrutura usada pelo Python)\n",
        "import pandas as pd"
      ]
    },
    {
      "cell_type": "code",
      "execution_count": null,
      "metadata": {
        "id": "HAhtiiFMSvfV"
      },
      "outputs": [],
      "source": [
        "# Informar link onde os dados foram disponibilizados\n",
        "link_dados = 'https://github.com/mpatricia/workshop/blob/main/kc_house_data.csv?raw=true'"
      ]
    },
    {
      "cell_type": "code",
      "execution_count": null,
      "metadata": {
        "id": "YRN_B_v-SvfV"
      },
      "outputs": [],
      "source": [
        "# Ler dados e salvar no objeto df\n",
        "df = pd.read_table(link_dados)"
      ]
    },
    {
      "cell_type": "code",
      "execution_count": null,
      "metadata": {
        "id": "fSmR1FlxSvfV"
      },
      "outputs": [],
      "source": [
        "# Visualizar os primeiros registros do objeto df\n",
        "df.head()"
      ]
    },
    {
      "cell_type": "code",
      "source": [
        "# Ler dados e salvar no objeto df\n",
        "df = pd.read_table(link_dados, sep=',')\n",
        "df.head()"
      ],
      "metadata": {
        "id": "PYBsgpmilc6p"
      },
      "execution_count": null,
      "outputs": []
    },
    {
      "cell_type": "code",
      "execution_count": null,
      "metadata": {
        "id": "ug0OII_4cklG"
      },
      "outputs": [],
      "source": [
        "# Obter informações sobre as colunas do objeto df\n",
        "df.info()"
      ]
    },
    {
      "cell_type": "markdown",
      "metadata": {
        "id": "RYCKaMEb6I8O"
      },
      "source": [
        "### Analisar a Variável Preço \n",
        "\n",
        "É a variável que queremos prever, ela será a __variável resposta (target)__ do modelo preditivo! \n",
        "\n",
        "Preço é uma variável __quantitativa contínua__, é adequado visualizar com __histograma__ ou __boxplot__."
      ]
    },
    {
      "cell_type": "code",
      "execution_count": null,
      "metadata": {
        "id": "tRPzeTzv25oN"
      },
      "outputs": [],
      "source": [
        "# Histograma dos preços\n",
        "df.plot(kind=\"hist\", y=\"price\", bins=40)"
      ]
    },
    {
      "cell_type": "markdown",
      "metadata": {
        "id": "kEUNogXc5Dr5"
      },
      "source": [
        "Observação! **1e6** é equivalente a **1×10⁶**"
      ]
    },
    {
      "cell_type": "code",
      "execution_count": null,
      "metadata": {
        "id": "-Sk0VTnt3eV9"
      },
      "outputs": [],
      "source": [
        "# Boxplot dos preços\n",
        "df.plot(kind=\"box\", y=\"price\")"
      ]
    },
    {
      "cell_type": "markdown",
      "metadata": {
        "id": "bRRwWGjJ7PuJ"
      },
      "source": [
        "__Conclusão:__ \n",
        "\n",
        "O preço apresenta distribuição assimétrica, com grande parte dos valores entre 0 e 2 milhões, e poucos valores entre 2  e 8 milhões. \n",
        "\n",
        "Vamos colocar uma lupa entre 0 e 2 milhões para visualizar melhor:"
      ]
    },
    {
      "cell_type": "code",
      "execution_count": null,
      "metadata": {
        "id": "6G57bqml3vcW"
      },
      "outputs": [],
      "source": [
        "# Histograma filtrando apenas imóveis com preço até 2 milhões\n",
        "df.loc[df.price <= 2000000].plot(kind=\"hist\", y=\"price\", bins=40)"
      ]
    },
    {
      "cell_type": "markdown",
      "metadata": {
        "id": "v2iqJgzjSvfa"
      },
      "source": [
        "__Conclusão:__ \n",
        "\n",
        "No intervalo até 2 milhões também apresenta distribuição assimétrica, com grande parte dos valores entre 200 mil e 1 milhão. "
      ]
    },
    {
      "cell_type": "markdown",
      "metadata": {
        "id": "4QgdvMVI8Acg"
      },
      "source": [
        "### Analisar a Relação do Preço com as Demais Variáveis\n",
        "\n",
        "As demais variáveis serão usadas para prever o preço do imóvel, são chamadas de __variáveis explicativas (inputs)__ do modelo preditivo!\n",
        "\n",
        "Dado o conhecimento das variáveis explicativas, o modelo preditivo será aplicado a elas para prever o preço do imóvel.\n",
        "\n",
        "Quais variáveis explicativas são mais relevantes para estimar o preço do imóvel?"
      ]
    },
    {
      "cell_type": "markdown",
      "source": [
        "#### Preço x Área Interna (sqft_living)\n",
        "\n",
        "O preço e a área são variáveis __quantitativas contínuas__, é adequado visualizar com um __gráfico de pontos (scatter plot)__."
      ],
      "metadata": {
        "id": "A8hTU89kr8qJ"
      }
    },
    {
      "cell_type": "code",
      "execution_count": null,
      "metadata": {
        "id": "J2D8vLl8e5Vb"
      },
      "outputs": [],
      "source": [
        "# Scatter plot\n",
        "df.plot(kind=\"scatter\", y=\"price\", x=\"sqft_living\")"
      ]
    },
    {
      "cell_type": "code",
      "execution_count": null,
      "metadata": {
        "id": "UljN74fwSB_l"
      },
      "outputs": [],
      "source": [
        "# Scatter plot com transparência (para melhorar a vizualização)\n",
        "df.plot(kind=\"scatter\", y=\"price\", x=\"sqft_living\", alpha=.1)"
      ]
    },
    {
      "cell_type": "code",
      "execution_count": null,
      "metadata": {
        "id": "xCLxYO7kPT_5"
      },
      "outputs": [],
      "source": [
        "# Scatter plot com transparência em amostra de 1000 registros (para melhorar a visualização)\n",
        "df.sample(n=1000, random_state=0).plot(kind=\"scatter\", y=\"price\", x=\"sqft_living\", alpha=.1)"
      ]
    },
    {
      "cell_type": "code",
      "execution_count": null,
      "metadata": {
        "id": "pfvwq66ySvfc"
      },
      "outputs": [],
      "source": [
        "# Scatter plot com foco nos imóveis até 2 milhões\n",
        "df.loc[df.price <= 2000000].sample(n=1000, random_state=0).plot(kind=\"scatter\", y=\"price\", x=\"sqft_living\", alpha=.1)"
      ]
    },
    {
      "cell_type": "markdown",
      "metadata": {
        "id": "Cr0m9a8eSvfd"
      },
      "source": [
        "__Conclusão:__ \n",
        "\n",
        "* Preço e área interna apresentam relação positiva, quanto maior a área interna, maior o preço do imóvel. \n",
        "* Portanto, área interna é uma boa candidata a variável explicativa."
      ]
    },
    {
      "cell_type": "markdown",
      "metadata": {
        "id": "COtAEg6OSbHJ"
      },
      "source": [
        "__SUA VEZ!__\n",
        "\n",
        "Experimente visualizar a relação do preço com outra variável e analise a relação. Sugestão: bedrooms."
      ]
    },
    {
      "cell_type": "code",
      "execution_count": null,
      "metadata": {
        "id": "zrdkgvs9SXaP"
      },
      "outputs": [],
      "source": [
        "# Inclua seu código abaixo:"
      ]
    },
    {
      "cell_type": "markdown",
      "metadata": {
        "id": "k3F6UDdJS-bN"
      },
      "source": [
        "Como posso repetir essa análise para todas as variáveis? \n",
        "\n",
        "Vamos aprender a usar o loop!"
      ]
    },
    {
      "cell_type": "code",
      "execution_count": null,
      "metadata": {
        "id": "t4WSh8AFTwKo"
      },
      "outputs": [],
      "source": [
        "# Listar as colunas do objeto df\n",
        "df.columns"
      ]
    },
    {
      "cell_type": "code",
      "execution_count": null,
      "metadata": {
        "id": "_xW9ZZlCTfZp"
      },
      "outputs": [],
      "source": [
        "# Imprimir o 4º item da lista de colunas (obs: o índice começa em 0)\n",
        "print(df.columns[3])"
      ]
    },
    {
      "cell_type": "code",
      "execution_count": null,
      "metadata": {
        "id": "GJ2EpoVcPNyn"
      },
      "outputs": [],
      "source": [
        "# Loop para executar comandos com cada item do objeto df.columns\n",
        "for var in df.columns:\n",
        "    print(var)"
      ]
    },
    {
      "cell_type": "markdown",
      "metadata": {
        "id": "CGSCz_Y7PfH9"
      },
      "source": [
        "__SUA VEZ!__\n",
        "\n",
        "Use o loop para plotar o gráfico do preço com cada variável.\n",
        "\n",
        "__Dica:__ Combine os códigos das células anteriores!"
      ]
    },
    {
      "cell_type": "code",
      "execution_count": null,
      "metadata": {
        "id": "cskb8XdUeiJr",
        "scrolled": true
      },
      "outputs": [],
      "source": [
        "# Inclua seu código abaixo:"
      ]
    },
    {
      "cell_type": "markdown",
      "metadata": {
        "id": "bRqmaaoSSvfi"
      },
      "source": [
        "__Conclusões:__\n",
        "\n",
        "* __id:__ não parece ter relação e não tem sentido negocial, deve-se excluir\n",
        "* __bedrooms:__ parece ter relação positiva (quanto mais quartos, maior o preço), é uma variável quantitativa discreta, sendo mais adequado outro tipo de gráfico para visualizar a relação\n",
        "* __bathrooms:__ relação positiva, é uma variável quantitativa discreta\n",
        "* __sqft_living:__ relação positiva\n",
        "* __sqft_lot:__ não parece ter relação\n",
        "* __floors:__ variável quantitativa discreta\n",
        "* __waterfront:__ variável qualitativa nominal\n",
        "* __view:__ variável quantitativa discreta\n",
        "* __condition:__ variável quantitativa discreta\n",
        "* __grade:__ relação positiva, variável quantitativa discreta"
      ]
    },
    {
      "cell_type": "markdown",
      "metadata": {
        "id": "G0wOrrvuSvfi"
      },
      "source": [
        "Dada essa conclusão:\n",
        "\n",
        "* Excluir as variáveis que não parecem ter relação com o preço.\n",
        "* Para as variáveis discretas ou qualitativas, plotar gráfico mais adequado para avaliar a relação com o preço, por exemplo, boxplot por valor/categoria."
      ]
    },
    {
      "cell_type": "code",
      "execution_count": null,
      "metadata": {
        "id": "YWOm-ckRSvfi"
      },
      "outputs": [],
      "source": [
        "# Excluir variáveis\n",
        "vars_excluir = ['id', 'sqft_lot']\n",
        "df.drop(vars_excluir, axis=1, inplace=True)"
      ]
    },
    {
      "cell_type": "code",
      "execution_count": null,
      "metadata": {
        "id": "72Hq6KnOSvfi"
      },
      "outputs": [],
      "source": [
        "# Importar biblioteca para gráficos mais complexos\n",
        "import matplotlib.pyplot as plt\n",
        "import seaborn as sns"
      ]
    },
    {
      "cell_type": "code",
      "execution_count": null,
      "metadata": {
        "id": "GRsJPhLgSvfk"
      },
      "outputs": [],
      "source": [
        "# Boxplot para variáveis discretas ou qualitativas\n",
        "vars_discretas_qualitativas = ['bedrooms', 'bathrooms', 'floors', 'waterfront', 'view', 'condition', 'grade']\n",
        "\n",
        "fig, axs = plt.subplots(4, 2, figsize = (13, 15), facecolor='white')  \n",
        "for axs, var in zip(axs.flatten(), vars_discretas_qualitativas):\n",
        "    ax = sns.boxplot(x=var, y=\"price\", data=df[df.price<=2000000], palette=\"Set2\", ax=axs) # orient='h', "
      ]
    },
    {
      "cell_type": "markdown",
      "metadata": {
        "id": "-P43w9h1Svfl"
      },
      "source": [
        "__Conclusão:__\n",
        "\n",
        "* __bedrooms:__ correlação positiva\n",
        "* __bathrooms:__ correlação positiva\n",
        "* __floors:__ correlação positiva\n",
        "* __waterfront:__ imóveis que possuem vista para orla possuem preço maior\n",
        "* __view:__ correlação positiva\n",
        "* __condition:__ correlação positiva fraca\n",
        "* __grade:__ correlação positiva"
      ]
    },
    {
      "cell_type": "markdown",
      "metadata": {
        "id": "GSZ5XWkISvfm"
      },
      "source": [
        "### Análise de Valores Ausentes\n",
        "\n",
        "Vamos avaliar se as variáveis possuem valores ausentes e identificar a melhor forma de tratá-los."
      ]
    },
    {
      "cell_type": "code",
      "execution_count": null,
      "metadata": {
        "id": "RnKWNIzQSvfm"
      },
      "outputs": [],
      "source": [
        "# Percentual de valores ausentes por variável\n",
        "100*df.isnull().sum()/len(df)"
      ]
    },
    {
      "cell_type": "markdown",
      "metadata": {
        "id": "RqdLngVmSvfn"
      },
      "source": [
        "__Conclusão:__ \n",
        "\n",
        "Não há valores ausentes, portanto, não é necessário nenhum tratamento."
      ]
    },
    {
      "cell_type": "markdown",
      "metadata": {
        "id": "2r7XlQpGbVrf"
      },
      "source": [
        "__Tratamentos identificados e realizados:__\n",
        "\n",
        "* Exclusão de variáveis que não possuem sentido negocial ou não apresentam relação com o preço. __OK__\n",
        "* Tratamento de valores missing. __OK__\n",
        "* Tratamento de variáveis qualitativas (apenas waterfront). __OK__\n",
        "\n",
        "__Tratamento identificados e ainda não realizados:__\n",
        "\n",
        "* Padronizar variáveis explicativas para que fiquem na mesma grandeza: aplicar RobustScaler, pois algumas variáveis possuem outliers.\n",
        "* Tratamento de valores outliers: testar estimadores robustos a outliers, como o HuberRegressor.\n",
        "\n",
        "__Tratamentos identificados, mas não serão abordados nesse Workshop:__\n",
        "\n",
        "* Tratar a target para torná-la mais próxima da distirbuição normal, por exemplo, aplicar log.\n",
        "* Tratar autocorrelação entre variáveis explicativas."
      ]
    },
    {
      "cell_type": "code",
      "execution_count": null,
      "metadata": {
        "id": "tGT-4tAqSvfp"
      },
      "outputs": [],
      "source": [
        "# Selecionar variáveis explicativas para padronização com RobustScaler\n",
        "vars_explicativas = df.columns[1:]\n",
        "vars_explicativas"
      ]
    },
    {
      "cell_type": "code",
      "execution_count": null,
      "metadata": {
        "id": "X_2Omp38Svfp"
      },
      "outputs": [],
      "source": [
        "# Importar bibliotecas para pré-processamento dos dados\n",
        "from sklearn.compose import ColumnTransformer\n",
        "from sklearn.preprocessing import RobustScaler"
      ]
    },
    {
      "cell_type": "code",
      "execution_count": null,
      "metadata": {
        "id": "ghhc64f2bVru"
      },
      "outputs": [],
      "source": [
        "# Definir pre-processamento com padronização\n",
        "padronizar = RobustScaler(copy=False)\n",
        "preprocessor = ColumnTransformer(transformers=[('padronizar', padronizar, vars_explicativas)])"
      ]
    },
    {
      "cell_type": "markdown",
      "metadata": {
        "id": "Z33RO9l1Svfq"
      },
      "source": [
        "---\n"
      ]
    },
    {
      "cell_type": "markdown",
      "metadata": {
        "id": "DJBFFshdbVrv"
      },
      "source": [
        "## 4. Modelagem\n",
        "\n",
        "Será utilizada __validação cruzada__ para treinar diversos modelos e selecionar o melhor modelo nos dados de __treino__. \n",
        "\n",
        "Em seguida esse modelo será aplicado em uma amostra independente do treinamento (dados de __teste__) para avaliação da performance esperada com o uso do modelo."
      ]
    },
    {
      "cell_type": "code",
      "execution_count": null,
      "metadata": {
        "id": "D1oA9AtWSvfr"
      },
      "outputs": [],
      "source": [
        "# Importar bibliotecas\n",
        "from sklearn.model_selection import cross_validate, train_test_split # separar dados treino/teste e validação cruzada\n",
        "from sklearn.pipeline import Pipeline # definir sequência de cálculos para treinar modelos\n",
        "from sklearn import neighbors, tree, ensemble, linear_model, neural_network, svm # estimadores para treinar modelos \n",
        "from sklearn.metrics import r2_score, median_absolute_error # métrica para avaliar modelos"
      ]
    },
    {
      "cell_type": "markdown",
      "metadata": {
        "id": "vvbSzCOUbVrv"
      },
      "source": [
        "### Separar dados de treino e teste\n",
        "\n",
        "A base de __treino__ será utilizada para __treinamento e validação__, enquando a base de __teste__ será utilizada para __avaliação__ do modelo, como uma forma de mensurar de forma independente do treinamento o quão bem o modelo irá performar nos novos dados."
      ]
    },
    {
      "cell_type": "code",
      "source": [
        "# Selecionar variáveis explicativas para padronização com RobustScaler\n",
        "vars_explicativas = df.columns[1:]\n",
        "vars_explicativas"
      ],
      "metadata": {
        "id": "JI2XCz4Bwe6u"
      },
      "execution_count": null,
      "outputs": []
    },
    {
      "cell_type": "code",
      "execution_count": null,
      "metadata": {
        "id": "W7IO0RRwbVrv"
      },
      "outputs": [],
      "source": [
        "# Variáveis explicativas no objeto X\n",
        "X = df[vars_explicativas]\n",
        "\n",
        "# Variável target no objeto y\n",
        "y = df['price']\n",
        "\n",
        "# Separar em treino e teste\n",
        "X_train, X_test, y_train, y_test = train_test_split(X, y, test_size=0.3, random_state=1)"
      ]
    },
    {
      "cell_type": "markdown",
      "metadata": {
        "id": "9ZFH5LakbVrw"
      },
      "source": [
        "### Treinar Estimadores e Obter Métricas nos Dados de Treino\n",
        "\n",
        "Dado que tem-se uma __variável resposta quantitativa contínua__, os estimadores adequados são do tipo regressores, foram selecionados 5 estimadores para treinamento e seleção do melhor modelo."
      ]
    },
    {
      "cell_type": "code",
      "execution_count": null,
      "metadata": {
        "id": "SS86sF3EbVrx"
      },
      "outputs": [],
      "source": [
        "# Definir estimadores a serem testados\n",
        "estimadores = [\n",
        "    linear_model.LinearRegression(),\n",
        "    linear_model.HuberRegressor(),\n",
        "    neighbors.KNeighborsRegressor(),\n",
        "    ensemble.RandomForestRegressor(), \n",
        "    ensemble.GradientBoostingRegressor()\n",
        "]"
      ]
    },
    {
      "cell_type": "markdown",
      "source": [
        "Dentre as métricas adequadas para avaliação de estimadores do tipo regressor, foram escolhidas duas:\n",
        "\n",
        "* __R2:__ fornece uma noção de quanto da variância da variável resposta é explicado pelas variáveis explicativas, quanto maior melhor.\n",
        "* __Erro Absoluto Mediano:__ indica a diferença mediana entre os valores priditos e os valores reais, quanto menor melhor, é uma opção interessante dado que tem-se muitos valores outliers na variável repsosta."
      ],
      "metadata": {
        "id": "RTDocRQye-wr"
      }
    },
    {
      "cell_type": "code",
      "source": [
        "# Definir métricas para seleção do melhor modelo\n",
        "metricas = [\n",
        "    'r2', # r2_score\n",
        "    'neg_median_absolute_error' # median_absolute_error\n",
        "]"
      ],
      "metadata": {
        "id": "u6TbIUGuLgIf"
      },
      "execution_count": null,
      "outputs": []
    },
    {
      "cell_type": "code",
      "execution_count": null,
      "metadata": {
        "id": "Yr9lifkebVrx",
        "scrolled": false
      },
      "outputs": [],
      "source": [
        "# Loop para treinamento e captura de performance de cada estimador\n",
        "\n",
        "# Objeto para armazenar resultado de cada estimador\n",
        "results = []\n",
        "\n",
        "for estimador in estimadores:\n",
        "    \n",
        "    print('Rodando estimador:', estimador.__class__.__name__)\n",
        "    \n",
        "    # Pipeline - sequência de passos de pré-processamento e treinamento do estimador\n",
        "    my_pipeline = Pipeline(steps=[('preprocesing', preprocessor), \n",
        "                                  ('model', estimador)])\n",
        "    \n",
        "    # Mensurar métricas de performance usando validação cruzada\n",
        "    scores = cross_validate(my_pipeline, X_train, y_train, cv=3, scoring=metricas, return_train_score=True)\n",
        "    \n",
        "    # Salvar resultados\n",
        "    results.append({'Estimador':estimador.__class__.__name__, \n",
        "                    'R2_treino':scores['train_r2'].mean(),\n",
        "                    'R2_teste':scores['test_r2'].mean(),\n",
        "                    'median_abs_error_treino':-scores['train_neg_median_absolute_error'].mean(),\n",
        "                    'median_abs_error_teste':-scores['test_neg_median_absolute_error'].mean()\n",
        "                   })"
      ]
    },
    {
      "cell_type": "code",
      "execution_count": null,
      "metadata": {
        "id": "Y6J6ywjxSvfu"
      },
      "outputs": [],
      "source": [
        "# Visualizar resultados\n",
        "pd.DataFrame(results).sort_values('R2_teste', ascending=False)"
      ]
    },
    {
      "cell_type": "markdown",
      "metadata": {
        "id": "usaygBA5bVrx"
      },
      "source": [
        "__Conclusão:__\n",
        "\n",
        "* Considerando o R2 e o erro absoluto mediano alcançados na base de teste, os 5 modelos apresentaram resultados próximos. Nesse caso, vamos selecionar o modelo de regressão linear por ser mais simple e fácil de interpretar."
      ]
    },
    {
      "cell_type": "code",
      "execution_count": null,
      "metadata": {
        "id": "dwxHkMrgbVrz"
      },
      "outputs": [],
      "source": [
        "# Treinar modelo selecionado\n",
        "my_pipeline = Pipeline(steps=[('preprocessor', preprocessor), \n",
        "                              ('model', linear_model.LinearRegression())])\n",
        "my_pipeline.fit(X_train, y_train) "
      ]
    },
    {
      "cell_type": "markdown",
      "metadata": {
        "id": "7a2Y1kaHSvfv"
      },
      "source": [
        "---"
      ]
    },
    {
      "cell_type": "markdown",
      "metadata": {
        "id": "dHNnz4p6bVr0"
      },
      "source": [
        "## 5. Avaliação"
      ]
    },
    {
      "cell_type": "markdown",
      "metadata": {
        "id": "NHrkjqu1bVr0"
      },
      "source": [
        "Uma estimativa de quão bem o modelo preditivo irá performar diante de novos dados, independentes daqueles utilizados para treinamento, é calculada atráves da aplicação do modelo aos dados de teste."
      ]
    },
    {
      "cell_type": "code",
      "source": [
        "# Aplicar modelo nos dados de teste\n",
        "y_test_pred = my_pipeline.predict(X_test)\n",
        "\n",
        "# Calcular métricas de performance\n",
        "print(\"R2:\", r2_score(y_test, y_test_pred).round(2))\n",
        "print(\"Erro Absoluto Mediano:\", median_absolute_error(y_test, y_test_pred).round(2))"
      ],
      "metadata": {
        "id": "n7QxASBngshy"
      },
      "execution_count": null,
      "outputs": []
    },
    {
      "cell_type": "code",
      "execution_count": null,
      "metadata": {
        "id": "GICySqHFbVr0"
      },
      "outputs": [],
      "source": [
        "# Construir dataframe para visualização dos resultados\n",
        "df_test = pd.DataFrame({\"observado\":y_test,\n",
        "                        \"predito\":y_test_pred,\n",
        "                        \"erro\":y_test-y_test_pred})"
      ]
    },
    {
      "cell_type": "markdown",
      "source": [
        "__SUA VEZ!__\n",
        "\n",
        "Construa um gráfico para visualizar a distribuição dos erros. Dica: histograma.\n",
        "\n",
        "Construa um gráfico para visualizar a relação entre os valores preditos e os valores observados. Dica: scatter plot."
      ],
      "metadata": {
        "id": "TFshdCucyJHo"
      }
    },
    {
      "cell_type": "code",
      "source": [
        "# Insira seu código abaixo:"
      ],
      "metadata": {
        "id": "Gdzk7l3N0lCc"
      },
      "execution_count": null,
      "outputs": []
    },
    {
      "cell_type": "markdown",
      "metadata": {
        "id": "fu3jl68TbVr0"
      },
      "source": [
        "## 6. Aplicação"
      ]
    },
    {
      "cell_type": "markdown",
      "metadata": {
        "id": "Ydr02ZmVbVr1"
      },
      "source": [
        "### __Quer saber quanto custa o imóvel dos seus sonhos?__"
      ]
    },
    {
      "cell_type": "code",
      "source": [
        "#@title Como seria o imóvel dos seus sonhos? { vertical-output: true, display-mode: \"form\" }\n",
        "numero_quartos = 0 #@param {type:\"integer\"}\n",
        "numero_banheiros = 0 #@param {type:\"integer\"}\n",
        "area_interna = 0 #@param {type:\"number\"}\n",
        "numero_andares = 0 #@param {type:\"integer\"}\n",
        "vista_orla = 0 #@param {type:\"integer\"}\n",
        "qualidade_vista = 0 #@param {type:\"integer\"}\n",
        "qualidade_condicao = 0 #@param {type:\"integer\"}\n",
        "qualidade_geral = 0 #@param {type:\"integer\"}\n"
      ],
      "metadata": {
        "id": "ZbRsmDvBviNc"
      },
      "execution_count": null,
      "outputs": []
    },
    {
      "cell_type": "code",
      "execution_count": null,
      "metadata": {
        "id": "tYdLio_LbVr1"
      },
      "outputs": [],
      "source": [
        "df_imovel_sonhos = pd.DataFrame({\n",
        "    'bedrooms':numero_quartos,\n",
        "    'bathrooms':numero_banheiros,\n",
        "    'sqft_living':area_interna,\n",
        "    'floors':numero_andares,\n",
        "    'waterfront':vista_orla,\n",
        "    'view':qualidade_vista,\n",
        "    'condition':qualidade_condicao,\n",
        "    'grade':qualidade_geral\n",
        "}, index=['imovel_sonhos'])"
      ]
    },
    {
      "cell_type": "code",
      "execution_count": null,
      "metadata": {
        "id": "g9I_T7aJbVr4"
      },
      "outputs": [],
      "source": [
        "# Prever valor do imóvel dos sonhos\n",
        "valor_predito = round(my_pipeline.predict(df_imovel_sonhos)[0], 2)\n",
        "print(\"Seu imóvel dos sonhos custa aproximadamente\", valor_predito, \"!!!\")\n",
        "print(\"\")\n",
        "print(\"O Banco do Brasil te ajuda a conquistar seu sonho!\")"
      ]
    }
  ],
  "metadata": {
    "colab": {
      "name": "Notebook_Workshop_Febraban_Tech.ipynb",
      "provenance": [],
      "collapsed_sections": []
    },
    "kernelspec": {
      "display_name": "Python 3",
      "language": "python",
      "name": "python3"
    },
    "language_info": {
      "codemirror_mode": {
        "name": "ipython",
        "version": 3
      },
      "file_extension": ".py",
      "mimetype": "text/x-python",
      "name": "python",
      "nbconvert_exporter": "python",
      "pygments_lexer": "ipython3",
      "version": "3.7.6"
    }
  },
  "nbformat": 4,
  "nbformat_minor": 0
}